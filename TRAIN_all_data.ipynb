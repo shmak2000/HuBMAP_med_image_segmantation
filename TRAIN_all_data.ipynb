{
 "cells": [
  {
   "cell_type": "code",
   "execution_count": 1,
   "metadata": {
    "collapsed": true
   },
   "outputs": [
    {
     "name": "stderr",
     "output_type": "stream",
     "text": [
      "A:\\Jupyter Files\\envs\\visual\\lib\\site-packages\\torchaudio\\backend\\utils.py:74: UserWarning: No audio backend is available.\n",
      "  warnings.warn(\"No audio backend is available.\")\n"
     ]
    }
   ],
   "source": [
    "import torch\n",
    "import torch.nn as nn\n",
    "import torchvision\n",
    "import torchvision.transforms as transforms\n",
    "import torchvision.transforms.functional as TF\n",
    "from torch.utils.data import DataLoader, random_split\n",
    "import torchmetrics\n",
    "from torch.utils.data import Dataset\n",
    "\n",
    "import numpy as np\n",
    "import matplotlib.pyplot as plt\n",
    "import pandas as pd\n",
    "from tqdm import tqdm\n",
    "from PIL import Image\n",
    "import cv2 as cv\n",
    "from datetime import datetime\n",
    "import os\n",
    "import segmentation_models_pytorch as smp\n",
    "\n",
    "%matplotlib inline"
   ]
  },
  {
   "cell_type": "code",
   "execution_count": 2,
   "outputs": [
    {
     "name": "stdout",
     "output_type": "stream",
     "text": [
      "cuda:0\n"
     ]
    }
   ],
   "source": [
    "device = 'cuda:0' if torch.cuda.is_available() else 'cpu'\n",
    "print(device)"
   ],
   "metadata": {
    "collapsed": false
   }
  },
  {
   "cell_type": "code",
   "execution_count": 3,
   "outputs": [],
   "source": [
    "JSON_FILE = r\"HuBMAP dataset\\polygons.jsonl\"\n",
    "IMG_PATH = r\"HuBMAP dataset\\imgs\"\n",
    "TILE_META_PATH = r\"HuBMAP dataset\\tile_meta.csv\"\n",
    "\n",
    "SEED = 42"
   ],
   "metadata": {
    "collapsed": false
   }
  },
  {
   "cell_type": "code",
   "execution_count": 4,
   "outputs": [],
   "source": [
    "class TileNineByNine(Dataset):\n",
    "\n",
    "    def __init__(self, json_file=JSON_FILE,\n",
    "                 images_path=IMG_PATH,\n",
    "                 tile_meta_path=TILE_META_PATH):\n",
    "\n",
    "        self.tile_meta = tile_meta_path\n",
    "        self.polygons = json_file\n",
    "        self.images_path = images_path\n",
    "\n",
    "    def __len__(self):\n",
    "        return len(self.polygons)\n",
    "\n",
    "    @property\n",
    "    def tile_meta(self):\n",
    "        return self.__tile_meta\n",
    "\n",
    "    @tile_meta.setter\n",
    "    def tile_meta(self, val):\n",
    "        with open(val) as f:\n",
    "            self.__tile_meta = pd.read_csv(f)\n",
    "\n",
    "    @property\n",
    "    def polygons(self):\n",
    "        return self.__polygons\n",
    "\n",
    "    @polygons.setter\n",
    "    def polygons(self, val):\n",
    "        with open(val) as f:\n",
    "            self.__polygons = pd.read_json(f, lines=True)\n",
    "\n",
    "    def transformation(self, image, mask):\n",
    "\n",
    "        need_crop = (image.shape[0] > 512)\n",
    "\n",
    "        image = Image.fromarray(image)\n",
    "        mask_img = Image.fromarray(mask)\n",
    "\n",
    "        rotate_params = np.random.choice([0.0, 90.0, 180.0, 270.0, 0.0])\n",
    "#         rotate_params = transforms.RandomRotation.get_params((-60, 60))\n",
    "\n",
    "        flip = np.random.random()\n",
    "\n",
    "        flip_v = np.random.random()\n",
    "\n",
    "        jitter = np.random.random()\n",
    "\n",
    "        if jitter > 0.5:\n",
    "            image = transforms.ColorJitter(brightness=.5, hue=.3)(image)\n",
    "\n",
    "        image = TF.rotate(image,rotate_params)\n",
    "\n",
    "        if flip > 0.7:\n",
    "            image = TF.hflip(image)\n",
    "\n",
    "        if flip_v > 0.7:\n",
    "            image = TF.vflip(image)\n",
    "\n",
    "        mask_img = TF.rotate(mask_img,rotate_params)\n",
    "\n",
    "        if flip > 0.7:\n",
    "            mask_img = TF.hflip(mask_img)\n",
    "\n",
    "        if flip_v > 0.7:\n",
    "            mask_img = TF.vflip(mask_img)\n",
    "\n",
    "        input_image_size = (512, 512)\n",
    "\n",
    "        if need_crop:\n",
    "            crop_size = np.random.choice(range(412, 812))\n",
    "            crop_params = transforms.RandomCrop.get_params(image, [crop_size, crop_size])\n",
    "            image = TF.resized_crop(image,*crop_params,input_image_size)\n",
    "            mask_img = TF.resized_crop(mask_img,*crop_params,input_image_size)\n",
    "\n",
    "        else:\n",
    "            crop_size = np.random.choice(range(412, 512))\n",
    "            crop_params = transforms.RandomCrop.get_params(image, [crop_size, crop_size])\n",
    "            image = TF.resized_crop(image,*crop_params,input_image_size)\n",
    "            mask_img = TF.resized_crop(mask_img,*crop_params,input_image_size)\n",
    "\n",
    "        mask = (np.array(mask_img))\n",
    "\n",
    "        return (image, mask)\n",
    "\n",
    "    def __getitem__(self, index):\n",
    "        if torch.is_tensor(index):\n",
    "            index = index.tolist()\n",
    "\n",
    "        norm = transforms.Normalize(mean=[0.485, 0.456, 0.406], std=[0.229, 0.224, 0.225])\n",
    "\n",
    "        img_name = self.polygons.iloc[index, 0]\n",
    "\n",
    "        image = Image.open(os.path.join(self.images_path, img_name)+'.tif')\n",
    "\n",
    "        image_large = np.zeros((512*3, 512*3, 3), dtype=np.uint8)\n",
    "        mask_large = np.zeros((512*3, 512*3), dtype=np.uint8)\n",
    "\n",
    "        n_wsi = self.tile_meta.source_wsi[self.tile_meta.id == img_name].item()\n",
    "\n",
    "        self.df_wsi = self.tile_meta[self.tile_meta.source_wsi == n_wsi]\n",
    "\n",
    "        col_coord, row_coord = self.df_wsi.i[self.tile_meta.id == img_name].item(), \\\n",
    "        self.tile_meta.j[self.tile_meta.id == img_name].item()\n",
    "\n",
    "        init_row = row_coord - 512\n",
    "\n",
    "        is_blank_flag = False\n",
    "\n",
    "        y = 0\n",
    "        for i in range(3):\n",
    "            x=0\n",
    "            init_col = col_coord - 512\n",
    "\n",
    "            for j in range(3):\n",
    "\n",
    "                image_small_name = self.df_wsi.id[np.logical_and((self.df_wsi.i == init_col),\n",
    "                                                                    (self.df_wsi.j == init_row))]\n",
    "\n",
    "                if image_small_name.empty:\n",
    "                    is_blank_flag = True\n",
    "                    image_large = np.array(image)\n",
    "\n",
    "                    mask_large = np.zeros((512, 512), dtype=np.uint8)\n",
    "\n",
    "                    for coord_dict in self.polygons.annotations[index]:\n",
    "                        if coord_dict['type'] == 'blood_vessel':\n",
    "                            pts = np.array(coord_dict['coordinates'][0])\n",
    "                            cv.fillPoly(mask_large, pts=[pts], color=1)\n",
    "\n",
    "                        if coord_dict['type'] == 'glomerulus':\n",
    "                            pts = np.array(coord_dict['coordinates'][0])\n",
    "                            cv.fillPoly(mask_large, pts=[pts], color=2)\n",
    "\n",
    "                    break\n",
    "\n",
    "                image_small_path = os.path.join(self.images_path, image_small_name.item() + '.tif')\n",
    "\n",
    "                with Image.open(image_small_path) as image_small:\n",
    "                    image_large[y:y+512,x:x+512,:] = np.array(image_small)\n",
    "\n",
    "                index_mask = self.polygons.index[self.polygons.id == image_small_name.item()].item()\n",
    "\n",
    "                mask = np.zeros((512, 512), dtype=np.uint8)\n",
    "\n",
    "                for coord_dict in self.polygons.annotations[index_mask]:\n",
    "                    if coord_dict['type'] == 'blood_vessel':\n",
    "                        pts = np.array(coord_dict['coordinates'][0])\n",
    "                        cv.fillPoly(mask, pts=[pts], color=1)\n",
    "\n",
    "                    if coord_dict['type'] == 'glomerulus':\n",
    "                        pts = np.array(coord_dict['coordinates'][0])\n",
    "                        cv.fillPoly(mask, pts=[pts], color=2)\n",
    "\n",
    "                mask_large[y:y+512,x:x+512] = mask\n",
    "\n",
    "                x += 512\n",
    "                init_col += 512\n",
    "\n",
    "            if is_blank_flag:\n",
    "                break\n",
    "            y += 512\n",
    "            init_row += 512\n",
    "\n",
    "        image_large, mask_large = self.transformation(image_large, mask_large)\n",
    "\n",
    "        image_large = np.array(image_large).transpose((2, 0, 1))\n",
    "        if image_large.max():\n",
    "            image_large = image_large/image_large.max()\n",
    "\n",
    "        image_large = norm(torch.tensor(image_large.astype(np.float32)))\n",
    "\n",
    "        return image_large, mask_large.astype(np.float32)"
   ],
   "metadata": {
    "collapsed": false
   }
  },
  {
   "cell_type": "code",
   "execution_count": 5,
   "outputs": [],
   "source": [
    "dataset = TileNineByNine()"
   ],
   "metadata": {
    "collapsed": false
   }
  },
  {
   "cell_type": "code",
   "execution_count": 6,
   "outputs": [
    {
     "data": {
      "text/plain": "1633"
     },
     "execution_count": 6,
     "metadata": {},
     "output_type": "execute_result"
    }
   ],
   "source": [
    "dataset.__len__()"
   ],
   "metadata": {
    "collapsed": false
   }
  },
  {
   "cell_type": "code",
   "execution_count": 7,
   "outputs": [],
   "source": [
    "def moving_average(array: np.array, betta=0.9) -> np.array:\n",
    "    \"\"\"\n",
    "    Computing moving average with bias correction.\n",
    "    \"\"\"\n",
    "\n",
    "    V = 0\n",
    "    average_array = np.zeros(len(array))\n",
    "    for i in range(len(array)):\n",
    "        V = betta * V + (1 - betta) * array[i]\n",
    "        average_array[i] = V/(1 - pow(betta, i+1))\n",
    "\n",
    "    return average_array\n",
    "\n",
    "def init_dataloaders(batch_size):\n",
    "\n",
    "    train_data = TileNineByNine()\n",
    "\n",
    "    train_loader = DataLoader(train_data, batch_size=batch_size, shuffle=True, drop_last=True)\n",
    "\n",
    "    return train_loader\n",
    "\n",
    "def train_model(model, loss_func_focal, loss_func_dice, n_epochs, lr, wd, gamma):\n",
    "\n",
    "    warmup_steps = 7\n",
    "\n",
    "    optimizer = torch.optim.AdamW(model.parameters(), lr=lr, weight_decay=wd)\n",
    "    lr_scheduler = torch.optim.lr_scheduler.ExponentialLR(optimizer, gamma=gamma, verbose=True)\n",
    "    warmup_scheduler = torch.optim.lr_scheduler.LinearLR(optimizer, 2e-02, 1, warmup_steps, verbose=True)\n",
    "    scaler = torch.cuda.amp.GradScaler()\n",
    "    model.to(device)\n",
    "\n",
    "    losses_train = np.zeros(n_epochs)\n",
    "\n",
    "    for i in range(n_epochs):\n",
    "        model.train()\n",
    "        losses_epoch_train = []\n",
    "\n",
    "        t0 = datetime.now()\n",
    "\n",
    "        for inputs, targets in tqdm(train_loader):\n",
    "            targets = targets.type(torch.LongTensor)\n",
    "            inputs, targets = inputs.to(device), targets.to(device)\n",
    "\n",
    "            inputs = inputs.float()\n",
    "\n",
    "            optimizer.zero_grad()\n",
    "\n",
    "            with torch.autocast(device_type='cuda', dtype=torch.float16):\n",
    "                outputs = model(inputs)\n",
    "                loss = 0.7*loss_func_dice(outputs, targets) + loss_func_focal(outputs, targets)\n",
    "                # loss = loss_func(outputs, targets)\n",
    "\n",
    "            scaler.scale(loss).backward()\n",
    "            scaler.step(optimizer)\n",
    "\n",
    "            scaler.update()\n",
    "\n",
    "            losses_epoch_train.append(loss.item())\n",
    "\n",
    "        if i < warmup_steps:\n",
    "            warmup_scheduler.step()\n",
    "        else:\n",
    "            lr_scheduler.step()\n",
    "\n",
    "        losses_train[i] = np.mean(losses_epoch_train)\n",
    "\n",
    "        dt = datetime.now() - t0\n",
    "\n",
    "        print(f'Epoch: {i+1}/{n_epochs}')\n",
    "        print(f'Train loss: {losses_train[i]:.3f}')\n",
    "        torch.cuda.empty_cache()\n",
    "\n",
    "    return model, losses_train"
   ],
   "metadata": {
    "collapsed": false
   }
  },
  {
   "cell_type": "code",
   "execution_count": 8,
   "outputs": [
    {
     "name": "stdout",
     "output_type": "stream",
     "text": [
      "Adjusting learning rate of group 0 to 1.0000e-04.\n",
      "Adjusting learning rate of group 0 to 2.0000e-06.\n"
     ]
    },
    {
     "name": "stderr",
     "output_type": "stream",
     "text": [
      "100%|██████████| 326/326 [04:05<00:00,  1.33it/s]\n"
     ]
    },
    {
     "name": "stdout",
     "output_type": "stream",
     "text": [
      "Adjusting learning rate of group 0 to 1.6000e-05.\n",
      "Epoch: 1/50\n",
      "Train loss: 1.223\n"
     ]
    },
    {
     "name": "stderr",
     "output_type": "stream",
     "text": [
      "100%|██████████| 326/326 [04:05<00:00,  1.33it/s]\n"
     ]
    },
    {
     "name": "stdout",
     "output_type": "stream",
     "text": [
      "Adjusting learning rate of group 0 to 3.0000e-05.\n",
      "Epoch: 2/50\n",
      "Train loss: 1.031\n"
     ]
    },
    {
     "name": "stderr",
     "output_type": "stream",
     "text": [
      "100%|██████████| 326/326 [03:56<00:00,  1.38it/s]\n"
     ]
    },
    {
     "name": "stdout",
     "output_type": "stream",
     "text": [
      "Adjusting learning rate of group 0 to 4.4000e-05.\n",
      "Epoch: 3/50\n",
      "Train loss: 0.928\n"
     ]
    },
    {
     "name": "stderr",
     "output_type": "stream",
     "text": [
      "100%|██████████| 326/326 [03:53<00:00,  1.39it/s]\n"
     ]
    },
    {
     "name": "stdout",
     "output_type": "stream",
     "text": [
      "Adjusting learning rate of group 0 to 5.8000e-05.\n",
      "Epoch: 4/50\n",
      "Train loss: 0.880\n"
     ]
    },
    {
     "name": "stderr",
     "output_type": "stream",
     "text": [
      "100%|██████████| 326/326 [03:49<00:00,  1.42it/s]\n"
     ]
    },
    {
     "name": "stdout",
     "output_type": "stream",
     "text": [
      "Adjusting learning rate of group 0 to 7.2000e-05.\n",
      "Epoch: 5/50\n",
      "Train loss: 0.866\n"
     ]
    },
    {
     "name": "stderr",
     "output_type": "stream",
     "text": [
      "100%|██████████| 326/326 [03:56<00:00,  1.38it/s]\n"
     ]
    },
    {
     "name": "stdout",
     "output_type": "stream",
     "text": [
      "Adjusting learning rate of group 0 to 8.6000e-05.\n",
      "Epoch: 6/50\n",
      "Train loss: 0.861\n"
     ]
    },
    {
     "name": "stderr",
     "output_type": "stream",
     "text": [
      "100%|██████████| 326/326 [03:47<00:00,  1.43it/s]\n"
     ]
    },
    {
     "name": "stdout",
     "output_type": "stream",
     "text": [
      "Adjusting learning rate of group 0 to 1.0000e-04.\n",
      "Epoch: 7/50\n",
      "Train loss: 0.856\n"
     ]
    },
    {
     "name": "stderr",
     "output_type": "stream",
     "text": [
      "100%|██████████| 326/326 [03:53<00:00,  1.39it/s]\n"
     ]
    },
    {
     "name": "stdout",
     "output_type": "stream",
     "text": [
      "Adjusting learning rate of group 0 to 9.9000e-05.\n",
      "Epoch: 8/50\n",
      "Train loss: 0.856\n"
     ]
    },
    {
     "name": "stderr",
     "output_type": "stream",
     "text": [
      "100%|██████████| 326/326 [03:54<00:00,  1.39it/s]\n"
     ]
    },
    {
     "name": "stdout",
     "output_type": "stream",
     "text": [
      "Adjusting learning rate of group 0 to 9.8010e-05.\n",
      "Epoch: 9/50\n",
      "Train loss: 0.846\n"
     ]
    },
    {
     "name": "stderr",
     "output_type": "stream",
     "text": [
      "100%|██████████| 326/326 [03:54<00:00,  1.39it/s]\n"
     ]
    },
    {
     "name": "stdout",
     "output_type": "stream",
     "text": [
      "Adjusting learning rate of group 0 to 9.7030e-05.\n",
      "Epoch: 10/50\n",
      "Train loss: 0.845\n"
     ]
    },
    {
     "name": "stderr",
     "output_type": "stream",
     "text": [
      "100%|██████████| 326/326 [03:56<00:00,  1.38it/s]\n"
     ]
    },
    {
     "name": "stdout",
     "output_type": "stream",
     "text": [
      "Adjusting learning rate of group 0 to 9.6060e-05.\n",
      "Epoch: 11/50\n",
      "Train loss: 0.851\n"
     ]
    },
    {
     "name": "stderr",
     "output_type": "stream",
     "text": [
      "100%|██████████| 326/326 [03:56<00:00,  1.38it/s]\n"
     ]
    },
    {
     "name": "stdout",
     "output_type": "stream",
     "text": [
      "Adjusting learning rate of group 0 to 9.5099e-05.\n",
      "Epoch: 12/50\n",
      "Train loss: 0.847\n"
     ]
    },
    {
     "name": "stderr",
     "output_type": "stream",
     "text": [
      "100%|██████████| 326/326 [03:57<00:00,  1.37it/s]\n"
     ]
    },
    {
     "name": "stdout",
     "output_type": "stream",
     "text": [
      "Adjusting learning rate of group 0 to 9.4148e-05.\n",
      "Epoch: 13/50\n",
      "Train loss: 0.830\n"
     ]
    },
    {
     "name": "stderr",
     "output_type": "stream",
     "text": [
      "100%|██████████| 326/326 [03:50<00:00,  1.41it/s]\n"
     ]
    },
    {
     "name": "stdout",
     "output_type": "stream",
     "text": [
      "Adjusting learning rate of group 0 to 9.3207e-05.\n",
      "Epoch: 14/50\n",
      "Train loss: 0.831\n"
     ]
    },
    {
     "name": "stderr",
     "output_type": "stream",
     "text": [
      "100%|██████████| 326/326 [03:53<00:00,  1.40it/s]\n"
     ]
    },
    {
     "name": "stdout",
     "output_type": "stream",
     "text": [
      "Adjusting learning rate of group 0 to 9.2274e-05.\n",
      "Epoch: 15/50\n",
      "Train loss: 0.836\n"
     ]
    },
    {
     "name": "stderr",
     "output_type": "stream",
     "text": [
      "100%|██████████| 326/326 [04:01<00:00,  1.35it/s]\n"
     ]
    },
    {
     "name": "stdout",
     "output_type": "stream",
     "text": [
      "Adjusting learning rate of group 0 to 9.1352e-05.\n",
      "Epoch: 16/50\n",
      "Train loss: 0.825\n"
     ]
    },
    {
     "name": "stderr",
     "output_type": "stream",
     "text": [
      "100%|██████████| 326/326 [03:55<00:00,  1.38it/s]\n"
     ]
    },
    {
     "name": "stdout",
     "output_type": "stream",
     "text": [
      "Adjusting learning rate of group 0 to 9.0438e-05.\n",
      "Epoch: 17/50\n",
      "Train loss: 0.831\n"
     ]
    },
    {
     "name": "stderr",
     "output_type": "stream",
     "text": [
      "100%|██████████| 326/326 [03:54<00:00,  1.39it/s]\n"
     ]
    },
    {
     "name": "stdout",
     "output_type": "stream",
     "text": [
      "Adjusting learning rate of group 0 to 8.9534e-05.\n",
      "Epoch: 18/50\n",
      "Train loss: 0.830\n"
     ]
    },
    {
     "name": "stderr",
     "output_type": "stream",
     "text": [
      "100%|██████████| 326/326 [03:50<00:00,  1.41it/s]\n"
     ]
    },
    {
     "name": "stdout",
     "output_type": "stream",
     "text": [
      "Adjusting learning rate of group 0 to 8.8638e-05.\n",
      "Epoch: 19/50\n",
      "Train loss: 0.827\n"
     ]
    },
    {
     "name": "stderr",
     "output_type": "stream",
     "text": [
      "100%|██████████| 326/326 [03:53<00:00,  1.39it/s]\n"
     ]
    },
    {
     "name": "stdout",
     "output_type": "stream",
     "text": [
      "Adjusting learning rate of group 0 to 8.7752e-05.\n",
      "Epoch: 20/50\n",
      "Train loss: 0.822\n"
     ]
    },
    {
     "name": "stderr",
     "output_type": "stream",
     "text": [
      "100%|██████████| 326/326 [03:56<00:00,  1.38it/s]\n"
     ]
    },
    {
     "name": "stdout",
     "output_type": "stream",
     "text": [
      "Adjusting learning rate of group 0 to 8.6875e-05.\n",
      "Epoch: 21/50\n",
      "Train loss: 0.827\n"
     ]
    },
    {
     "name": "stderr",
     "output_type": "stream",
     "text": [
      "100%|██████████| 326/326 [03:54<00:00,  1.39it/s]\n"
     ]
    },
    {
     "name": "stdout",
     "output_type": "stream",
     "text": [
      "Adjusting learning rate of group 0 to 8.6006e-05.\n",
      "Epoch: 22/50\n",
      "Train loss: 0.825\n"
     ]
    },
    {
     "name": "stderr",
     "output_type": "stream",
     "text": [
      "100%|██████████| 326/326 [03:57<00:00,  1.37it/s]\n"
     ]
    },
    {
     "name": "stdout",
     "output_type": "stream",
     "text": [
      "Adjusting learning rate of group 0 to 8.5146e-05.\n",
      "Epoch: 23/50\n",
      "Train loss: 0.820\n"
     ]
    },
    {
     "name": "stderr",
     "output_type": "stream",
     "text": [
      "100%|██████████| 326/326 [03:53<00:00,  1.40it/s]\n"
     ]
    },
    {
     "name": "stdout",
     "output_type": "stream",
     "text": [
      "Adjusting learning rate of group 0 to 8.4294e-05.\n",
      "Epoch: 24/50\n",
      "Train loss: 0.811\n"
     ]
    },
    {
     "name": "stderr",
     "output_type": "stream",
     "text": [
      "100%|██████████| 326/326 [03:58<00:00,  1.37it/s]\n"
     ]
    },
    {
     "name": "stdout",
     "output_type": "stream",
     "text": [
      "Adjusting learning rate of group 0 to 8.3451e-05.\n",
      "Epoch: 25/50\n",
      "Train loss: 0.819\n"
     ]
    },
    {
     "name": "stderr",
     "output_type": "stream",
     "text": [
      "100%|██████████| 326/326 [03:57<00:00,  1.37it/s]\n"
     ]
    },
    {
     "name": "stdout",
     "output_type": "stream",
     "text": [
      "Adjusting learning rate of group 0 to 8.2617e-05.\n",
      "Epoch: 26/50\n",
      "Train loss: 0.815\n"
     ]
    },
    {
     "name": "stderr",
     "output_type": "stream",
     "text": [
      "100%|██████████| 326/326 [03:58<00:00,  1.36it/s]\n"
     ]
    },
    {
     "name": "stdout",
     "output_type": "stream",
     "text": [
      "Adjusting learning rate of group 0 to 8.1791e-05.\n",
      "Epoch: 27/50\n",
      "Train loss: 0.820\n"
     ]
    },
    {
     "name": "stderr",
     "output_type": "stream",
     "text": [
      "100%|██████████| 326/326 [03:59<00:00,  1.36it/s]\n"
     ]
    },
    {
     "name": "stdout",
     "output_type": "stream",
     "text": [
      "Adjusting learning rate of group 0 to 8.0973e-05.\n",
      "Epoch: 28/50\n",
      "Train loss: 0.816\n"
     ]
    },
    {
     "name": "stderr",
     "output_type": "stream",
     "text": [
      "100%|██████████| 326/326 [04:01<00:00,  1.35it/s]\n"
     ]
    },
    {
     "name": "stdout",
     "output_type": "stream",
     "text": [
      "Adjusting learning rate of group 0 to 8.0163e-05.\n",
      "Epoch: 29/50\n",
      "Train loss: 0.816\n"
     ]
    },
    {
     "name": "stderr",
     "output_type": "stream",
     "text": [
      "100%|██████████| 326/326 [04:02<00:00,  1.35it/s]\n"
     ]
    },
    {
     "name": "stdout",
     "output_type": "stream",
     "text": [
      "Adjusting learning rate of group 0 to 7.9361e-05.\n",
      "Epoch: 30/50\n",
      "Train loss: 0.821\n"
     ]
    },
    {
     "name": "stderr",
     "output_type": "stream",
     "text": [
      "100%|██████████| 326/326 [03:57<00:00,  1.37it/s]\n"
     ]
    },
    {
     "name": "stdout",
     "output_type": "stream",
     "text": [
      "Adjusting learning rate of group 0 to 7.8568e-05.\n",
      "Epoch: 31/50\n",
      "Train loss: 0.818\n"
     ]
    },
    {
     "name": "stderr",
     "output_type": "stream",
     "text": [
      "100%|██████████| 326/326 [03:58<00:00,  1.37it/s]\n"
     ]
    },
    {
     "name": "stdout",
     "output_type": "stream",
     "text": [
      "Adjusting learning rate of group 0 to 7.7782e-05.\n",
      "Epoch: 32/50\n",
      "Train loss: 0.831\n"
     ]
    },
    {
     "name": "stderr",
     "output_type": "stream",
     "text": [
      "100%|██████████| 326/326 [03:52<00:00,  1.40it/s]\n"
     ]
    },
    {
     "name": "stdout",
     "output_type": "stream",
     "text": [
      "Adjusting learning rate of group 0 to 7.7004e-05.\n",
      "Epoch: 33/50\n",
      "Train loss: 0.817\n"
     ]
    },
    {
     "name": "stderr",
     "output_type": "stream",
     "text": [
      "100%|██████████| 326/326 [03:55<00:00,  1.38it/s]\n"
     ]
    },
    {
     "name": "stdout",
     "output_type": "stream",
     "text": [
      "Adjusting learning rate of group 0 to 7.6234e-05.\n",
      "Epoch: 34/50\n",
      "Train loss: 0.825\n"
     ]
    },
    {
     "name": "stderr",
     "output_type": "stream",
     "text": [
      "100%|██████████| 326/326 [04:07<00:00,  1.32it/s]\n"
     ]
    },
    {
     "name": "stdout",
     "output_type": "stream",
     "text": [
      "Adjusting learning rate of group 0 to 7.5472e-05.\n",
      "Epoch: 35/50\n",
      "Train loss: 0.820\n"
     ]
    },
    {
     "name": "stderr",
     "output_type": "stream",
     "text": [
      "100%|██████████| 326/326 [03:54<00:00,  1.39it/s]\n"
     ]
    },
    {
     "name": "stdout",
     "output_type": "stream",
     "text": [
      "Adjusting learning rate of group 0 to 7.4717e-05.\n",
      "Epoch: 36/50\n",
      "Train loss: 0.827\n"
     ]
    },
    {
     "name": "stderr",
     "output_type": "stream",
     "text": [
      "100%|██████████| 326/326 [03:54<00:00,  1.39it/s]\n"
     ]
    },
    {
     "name": "stdout",
     "output_type": "stream",
     "text": [
      "Adjusting learning rate of group 0 to 7.3970e-05.\n",
      "Epoch: 37/50\n",
      "Train loss: 0.817\n"
     ]
    },
    {
     "name": "stderr",
     "output_type": "stream",
     "text": [
      "100%|██████████| 326/326 [03:59<00:00,  1.36it/s]\n"
     ]
    },
    {
     "name": "stdout",
     "output_type": "stream",
     "text": [
      "Adjusting learning rate of group 0 to 7.3230e-05.\n",
      "Epoch: 38/50\n",
      "Train loss: 0.821\n"
     ]
    },
    {
     "name": "stderr",
     "output_type": "stream",
     "text": [
      "100%|██████████| 326/326 [03:52<00:00,  1.40it/s]\n"
     ]
    },
    {
     "name": "stdout",
     "output_type": "stream",
     "text": [
      "Adjusting learning rate of group 0 to 7.2498e-05.\n",
      "Epoch: 39/50\n",
      "Train loss: 0.819\n"
     ]
    },
    {
     "name": "stderr",
     "output_type": "stream",
     "text": [
      "100%|██████████| 326/326 [03:47<00:00,  1.43it/s]\n"
     ]
    },
    {
     "name": "stdout",
     "output_type": "stream",
     "text": [
      "Adjusting learning rate of group 0 to 7.1773e-05.\n",
      "Epoch: 40/50\n",
      "Train loss: 0.816\n"
     ]
    },
    {
     "name": "stderr",
     "output_type": "stream",
     "text": [
      "100%|██████████| 326/326 [03:52<00:00,  1.40it/s]\n"
     ]
    },
    {
     "name": "stdout",
     "output_type": "stream",
     "text": [
      "Adjusting learning rate of group 0 to 7.1055e-05.\n",
      "Epoch: 41/50\n",
      "Train loss: 0.811\n"
     ]
    },
    {
     "name": "stderr",
     "output_type": "stream",
     "text": [
      "100%|██████████| 326/326 [03:50<00:00,  1.42it/s]\n"
     ]
    },
    {
     "name": "stdout",
     "output_type": "stream",
     "text": [
      "Adjusting learning rate of group 0 to 7.0345e-05.\n",
      "Epoch: 42/50\n",
      "Train loss: 0.822\n"
     ]
    },
    {
     "name": "stderr",
     "output_type": "stream",
     "text": [
      "100%|██████████| 326/326 [03:53<00:00,  1.39it/s]\n"
     ]
    },
    {
     "name": "stdout",
     "output_type": "stream",
     "text": [
      "Adjusting learning rate of group 0 to 6.9641e-05.\n",
      "Epoch: 43/50\n",
      "Train loss: 0.809\n"
     ]
    },
    {
     "name": "stderr",
     "output_type": "stream",
     "text": [
      "100%|██████████| 326/326 [03:54<00:00,  1.39it/s]\n"
     ]
    },
    {
     "name": "stdout",
     "output_type": "stream",
     "text": [
      "Adjusting learning rate of group 0 to 6.8945e-05.\n",
      "Epoch: 44/50\n",
      "Train loss: 0.822\n"
     ]
    },
    {
     "name": "stderr",
     "output_type": "stream",
     "text": [
      "100%|██████████| 326/326 [03:52<00:00,  1.40it/s]\n"
     ]
    },
    {
     "name": "stdout",
     "output_type": "stream",
     "text": [
      "Adjusting learning rate of group 0 to 6.8255e-05.\n",
      "Epoch: 45/50\n",
      "Train loss: 0.813\n"
     ]
    },
    {
     "name": "stderr",
     "output_type": "stream",
     "text": [
      "100%|██████████| 326/326 [03:51<00:00,  1.41it/s]\n"
     ]
    },
    {
     "name": "stdout",
     "output_type": "stream",
     "text": [
      "Adjusting learning rate of group 0 to 6.7573e-05.\n",
      "Epoch: 46/50\n",
      "Train loss: 0.815\n"
     ]
    },
    {
     "name": "stderr",
     "output_type": "stream",
     "text": [
      "100%|██████████| 326/326 [03:54<00:00,  1.39it/s]\n"
     ]
    },
    {
     "name": "stdout",
     "output_type": "stream",
     "text": [
      "Adjusting learning rate of group 0 to 6.6897e-05.\n",
      "Epoch: 47/50\n",
      "Train loss: 0.810\n"
     ]
    },
    {
     "name": "stderr",
     "output_type": "stream",
     "text": [
      "100%|██████████| 326/326 [03:56<00:00,  1.38it/s]\n"
     ]
    },
    {
     "name": "stdout",
     "output_type": "stream",
     "text": [
      "Adjusting learning rate of group 0 to 6.6228e-05.\n",
      "Epoch: 48/50\n",
      "Train loss: 0.818\n"
     ]
    },
    {
     "name": "stderr",
     "output_type": "stream",
     "text": [
      "100%|██████████| 326/326 [03:54<00:00,  1.39it/s]\n"
     ]
    },
    {
     "name": "stdout",
     "output_type": "stream",
     "text": [
      "Adjusting learning rate of group 0 to 6.5566e-05.\n",
      "Epoch: 49/50\n",
      "Train loss: 0.818\n"
     ]
    },
    {
     "name": "stderr",
     "output_type": "stream",
     "text": [
      "100%|██████████| 326/326 [03:56<00:00,  1.38it/s]"
     ]
    },
    {
     "name": "stdout",
     "output_type": "stream",
     "text": [
      "Adjusting learning rate of group 0 to 6.4910e-05.\n",
      "Epoch: 50/50\n",
      "Train loss: 0.812\n"
     ]
    },
    {
     "name": "stderr",
     "output_type": "stream",
     "text": [
      "\n"
     ]
    },
    {
     "data": {
      "text/plain": "<Figure size 640x480 with 1 Axes>",
      "image/png": "[encoded data removed]"
     },
     "metadata": {},
     "output_type": "display_data"
    },
    {
     "name": "stdout",
     "output_type": "stream",
     "text": [
      "Time elapsed: 3:16:29.278078\n"
     ]
    }
   ],
   "source": [
    "BS = 5\n",
    "N_EPOCHS = 50\n",
    "LR = 1e-04\n",
    "WD = 1e-04\n",
    "GAMMA = 0.99\n",
    "\n",
    "scores_best = []\n",
    "scores_wsi = []\n",
    "\n",
    "\n",
    "T0 = datetime.now()\n",
    "train_loader = init_dataloaders(BS)\n",
    "\n",
    "model = smp.Unet(encoder_name='mit_b4',\n",
    "                     encoder_weights='imagenet',\n",
    "                     decoder_channels=(512, 256, 128, 64, 32),\n",
    "                     decoder_use_batchnorm=True,\n",
    "                     classes=3,\n",
    "                     activation=None)\n",
    "\n",
    "model.segmentation_head[2] = nn.Softmax(dim=1)\n",
    "\n",
    "\n",
    "\n",
    "loss_func_dice = smp.losses.DiceLoss(mode='multiclass')\n",
    "# loss_func = nn.CrossEntropyLoss(weight=weights)\n",
    "loss_func_focal = smp.losses.FocalLoss(mode='multiclass')\n",
    "# loss_func = torchvision.ops.focal_loss()\n",
    "\n",
    "model, train_losses = train_model(model, loss_func_focal, loss_func_dice, N_EPOCHS, LR, WD, GAMMA)\n",
    "\n",
    "plt.plot(train_losses, label='train')\n",
    "plt.plot(moving_average(train_losses), label='m/a')\n",
    "plt.legend()\n",
    "plt.show()\n",
    "\n",
    "T1 = datetime.now() - T0\n",
    "\n",
    "print(f\"Time elapsed: {T1}\")"
   ],
   "metadata": {
    "collapsed": false
   }
  },
  {
   "cell_type": "code",
   "execution_count": 9,
   "outputs": [],
   "source": [
    "torch.save(model.state_dict(), r\"models\\HuBMAP_#58.pt\")"
   ],
   "metadata": {
    "collapsed": false
   }
  }
 ],
 "metadata": {
  "kernelspec": {
   "name": "visual",
   "language": "python",
   "display_name": "visual"
  },
  "language_info": {
   "codemirror_mode": {
    "name": "ipython",
    "version": 2
   },
   "file_extension": ".py",
   "mimetype": "text/x-python",
   "name": "python",
   "nbconvert_exporter": "python",
   "pygments_lexer": "ipython2",
   "version": "2.7.6"
  }
 },
 "nbformat": 4,
 "nbformat_minor": 0
}
